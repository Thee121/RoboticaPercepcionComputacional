{
 "cells": [
  {
   "cell_type": "code",
   "execution_count": null,
   "metadata": {},
   "outputs": [],
   "source": [
    "\n",
    "class Classifier: \n",
    "    @abstractmethod\n",
    "    def fit(self, x, y):\n",
    "        pass\n",
    "    \n",
    "    @abstractmethod\n",
    "    def predict(self, X):\n",
    "        pass\n",
    "    \n",
    "    \n",
    "class ClassifEuclid (Classifier):\n",
    "    def fit(self, x, y):\n",
    "        \"\"\"Entrena el clasificador\n",
    "        X: matriz numpy, cada fila es un dato, cada columna una medida del vector de caracteristicas. y: vector de clases, tantos elementos como filas en X.\n",
    "        Retorna objeto clasificador\"\"\"\n",
    "        \"... \"\n",
    "        return self\n",
    "    \n",
    "    def decision_function(self, X):\n",
    "        \"\"\"Estima el grado de pertenencia de todos los datos a todas las clase\n",
    "        X: matriz numpy, cada fila es un dato, cada columna una medida del vector de caracteristicas. Retorna una matriz, con tantas filas como datos y tantas columnas como clases tenga\n",
    "        el problema, cada fila almacena los valores pertenencia de un dato a cada clase\"\"\" \n",
    "        return \"...\"\n",
    "    \n",
    "    def predict(self, X):\n",
    "        \"\"\"Predice una clase para cada dato. La clase retornada debe ser un entero.\n",
    "        X: matriz numpy donde cada fila es un dato, cada columna una medida.\n",
    "        Retorna un vector con la clase predicha para cada dato\"\"\"\n",
    "        return \"...\"\n",
    "    "
   ]
  }
 ],
 "metadata": {
  "language_info": {
   "name": "python"
  }
 },
 "nbformat": 4,
 "nbformat_minor": 2
}
